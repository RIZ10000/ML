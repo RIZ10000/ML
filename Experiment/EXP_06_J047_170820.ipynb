{
  "nbformat": 4,
  "nbformat_minor": 0,
  "metadata": {
    "colab": {
      "name": "EXP_06_J047_170820.ipynb",
      "provenance": [],
      "authorship_tag": "ABX9TyOcji5GHZlwWq12OOBDZ5en",
      "include_colab_link": true
    },
    "kernelspec": {
      "name": "python3",
      "display_name": "Python 3"
    }
  },
  "cells": [
    {
      "cell_type": "markdown",
      "metadata": {
        "id": "view-in-github",
        "colab_type": "text"
      },
      "source": [
        "<a href=\"https://colab.research.google.com/github/RIZ10000/ML/blob/master/Experiment/EXP_06_J047_170820.ipynb\" target=\"_parent\"><img src=\"https://colab.research.google.com/assets/colab-badge.svg\" alt=\"Open In Colab\"/></a>"
      ]
    },
    {
      "cell_type": "markdown",
      "metadata": {
        "id": "4fVaOtGyqu29"
      },
      "source": [
        " \n",
        "!wget -O 2011gcn.csv https://raw.githubusercontent.com/pranavn91/blockchain/master/2011gcn.csv\n",
        "\n",
        "!wget -O tx2011partvertices_new.csv https://raw.githubusercontent.com/pranavn91/blockchain/master/tx2011partvertices_new.csv\n",
        "\n",
        "!wget -O tx2011partvertices.csv https://raw.githubusercontent.com/pranavn91/blockchain/master/tx2011partvertices.csv"
      ]
    },
    {
      "cell_type": "code",
      "metadata": {
        "id": "9lCkxxRnp3bF",
        "outputId": "77de1bae-4686-44c4-ea64-f37508832378",
        "colab": {
          "base_uri": "https://localhost:8080/",
          "height": 71
        }
      },
      "source": [
        "import numpy as np\n",
        "import pandas as pd\n",
        "\n",
        "import matplotlib.pyplot as plt\n",
        "import seaborn as sns\n",
        "\n",
        "from sklearn.model_selection import train_test_split, cross_val_score\n",
        "from sklearn.preprocessing import StandardScaler\n",
        "\n",
        "from keras import models\n",
        "from keras import layers\n",
        "from keras.callbacks import EarlyStopping"
      ],
      "execution_count": 1,
      "outputs": [
        {
          "output_type": "stream",
          "text": [
            "/usr/local/lib/python3.6/dist-packages/statsmodels/tools/_testing.py:19: FutureWarning: pandas.util.testing is deprecated. Use the functions in the public API at pandas.testing instead.\n",
            "  import pandas.util.testing as tm\n"
          ],
          "name": "stderr"
        }
      ]
    },
    {
      "cell_type": "code",
      "metadata": {
        "id": "QK5s83XGrIM4",
        "outputId": "120cc672-b971-472a-d743-727c0c6d7edd",
        "colab": {
          "base_uri": "https://localhost:8080/",
          "height": 578
        }
      },
      "source": [
        "!wget -O 2011gcn.csv https://raw.githubusercontent.com/pranavn91/blockchain/master/2011gcn.csv\n",
        "!wget -O tx2011partvertices_new.csv https://raw.githubusercontent.com/pranavn91/blockchain/master/tx2011partvertices_new.csv\n",
        "!wget -O tx2011partvertices.csv https://raw.githubusercontent.com/pranavn91/blockchain/master/tx2011partvertices.csv\n",
        " \n",
        "train1 = pd.read_csv('2011gcn.csv')\n",
        "train2 = pd.read_csv('tx2011partvertices_new.csv')\n",
        "train3 = pd.read_csv('tx2011partvertices.csv')"
      ],
      "execution_count": 2,
      "outputs": [
        {
          "output_type": "stream",
          "text": [
            "--2020-09-27 18:12:42--  https://raw.githubusercontent.com/pranavn91/blockchain/master/2011gcn.csv\n",
            "Resolving raw.githubusercontent.com (raw.githubusercontent.com)... 151.101.0.133, 151.101.64.133, 151.101.128.133, ...\n",
            "Connecting to raw.githubusercontent.com (raw.githubusercontent.com)|151.101.0.133|:443... connected.\n",
            "HTTP request sent, awaiting response... 200 OK\n",
            "Length: 12563086 (12M) [text/plain]\n",
            "Saving to: ‘2011gcn.csv’\n",
            "\n",
            "2011gcn.csv         100%[===================>]  11.98M  34.1MB/s    in 0.4s    \n",
            "\n",
            "2020-09-27 18:12:43 (34.1 MB/s) - ‘2011gcn.csv’ saved [12563086/12563086]\n",
            "\n",
            "--2020-09-27 18:12:43--  https://raw.githubusercontent.com/pranavn91/blockchain/master/tx2011partvertices_new.csv\n",
            "Resolving raw.githubusercontent.com (raw.githubusercontent.com)... 151.101.0.133, 151.101.64.133, 151.101.128.133, ...\n",
            "Connecting to raw.githubusercontent.com (raw.githubusercontent.com)|151.101.0.133|:443... connected.\n",
            "HTTP request sent, awaiting response... 200 OK\n",
            "Length: 12501458 (12M) [text/plain]\n",
            "Saving to: ‘tx2011partvertices_new.csv’\n",
            "\n",
            "tx2011partvertices_ 100%[===================>]  11.92M  36.0MB/s    in 0.3s    \n",
            "\n",
            "2020-09-27 18:12:43 (36.0 MB/s) - ‘tx2011partvertices_new.csv’ saved [12501458/12501458]\n",
            "\n",
            "--2020-09-27 18:12:43--  https://raw.githubusercontent.com/pranavn91/blockchain/master/tx2011partvertices.csv\n",
            "Resolving raw.githubusercontent.com (raw.githubusercontent.com)... 151.101.0.133, 151.101.64.133, 151.101.128.133, ...\n",
            "Connecting to raw.githubusercontent.com (raw.githubusercontent.com)|151.101.0.133|:443... connected.\n",
            "HTTP request sent, awaiting response... 200 OK\n",
            "Length: 1934257 (1.8M) [text/plain]\n",
            "Saving to: ‘tx2011partvertices.csv’\n",
            "\n",
            "tx2011partvertices. 100%[===================>]   1.84M  --.-KB/s    in 0.09s   \n",
            "\n",
            "2020-09-27 18:12:43 (19.9 MB/s) - ‘tx2011partvertices.csv’ saved [1934257/1934257]\n",
            "\n"
          ],
          "name": "stdout"
        }
      ]
    },
    {
      "cell_type": "code",
      "metadata": {
        "id": "NPDS3hgcrIP2",
        "outputId": "d42142d7-b5ad-48db-8259-dd9e14ed2a28",
        "colab": {
          "base_uri": "https://localhost:8080/",
          "height": 68
        }
      },
      "source": [
        "print('Train 1 Shape: ', train1.shape)\n",
        "print('Train 2 Shape: ', train2.shape)\n",
        "print('Train 3 Shape: ', train3.shape)"
      ],
      "execution_count": 3,
      "outputs": [
        {
          "output_type": "stream",
          "text": [
            "Train 1 Shape:  (96498, 17)\n",
            "Train 2 Shape:  (96498, 20)\n",
            "Train 3 Shape:  (96498, 2)\n"
          ],
          "name": "stdout"
        }
      ]
    },
    {
      "cell_type": "code",
      "metadata": {
        "id": "mh08qLB-rIV1",
        "outputId": "a587c9d2-e754-48fe-ccc0-4832cc8d8ef4",
        "colab": {
          "base_uri": "https://localhost:8080/",
          "height": 425
        }
      },
      "source": [
        "train1.info()"
      ],
      "execution_count": 4,
      "outputs": [
        {
          "output_type": "stream",
          "text": [
            "<class 'pandas.core.frame.DataFrame'>\n",
            "RangeIndex: 96498 entries, 0 to 96497\n",
            "Data columns (total 17 columns):\n",
            " #   Column      Non-Null Count  Dtype  \n",
            "---  ------      --------------  -----  \n",
            " 0   Unnamed: 0  96498 non-null  int64  \n",
            " 1   0           96498 non-null  float64\n",
            " 2   1           96498 non-null  float64\n",
            " 3   2           96498 non-null  float64\n",
            " 4   3           96498 non-null  float64\n",
            " 5   4           96498 non-null  float64\n",
            " 6   5           96498 non-null  float64\n",
            " 7   6           96498 non-null  float64\n",
            " 8   7           96498 non-null  float64\n",
            " 9   8           96498 non-null  float64\n",
            " 10  9           96498 non-null  float64\n",
            " 11  10          96498 non-null  float64\n",
            " 12  11          96498 non-null  float64\n",
            " 13  12          96498 non-null  float64\n",
            " 14  13          96498 non-null  float64\n",
            " 15  14          96498 non-null  float64\n",
            " 16  15          96498 non-null  float64\n",
            "dtypes: float64(16), int64(1)\n",
            "memory usage: 12.5 MB\n"
          ],
          "name": "stdout"
        }
      ]
    },
    {
      "cell_type": "code",
      "metadata": {
        "id": "HvcK0_mdrISd",
        "outputId": "e35b3735-2784-4eaa-ea81-ad005929ea4a",
        "colab": {
          "base_uri": "https://localhost:8080/",
          "height": 204
        }
      },
      "source": [
        "train1.rename(columns={'Unnamed: 0':'index'}, inplace=True)\n",
        "train1['index'] = train1['index'] + 1\n",
        "train1.head()"
      ],
      "execution_count": 5,
      "outputs": [
        {
          "output_type": "execute_result",
          "data": {
            "text/html": [
              "<div>\n",
              "<style scoped>\n",
              "    .dataframe tbody tr th:only-of-type {\n",
              "        vertical-align: middle;\n",
              "    }\n",
              "\n",
              "    .dataframe tbody tr th {\n",
              "        vertical-align: top;\n",
              "    }\n",
              "\n",
              "    .dataframe thead th {\n",
              "        text-align: right;\n",
              "    }\n",
              "</style>\n",
              "<table border=\"1\" class=\"dataframe\">\n",
              "  <thead>\n",
              "    <tr style=\"text-align: right;\">\n",
              "      <th></th>\n",
              "      <th>index</th>\n",
              "      <th>0</th>\n",
              "      <th>1</th>\n",
              "      <th>2</th>\n",
              "      <th>3</th>\n",
              "      <th>4</th>\n",
              "      <th>5</th>\n",
              "      <th>6</th>\n",
              "      <th>7</th>\n",
              "      <th>8</th>\n",
              "      <th>9</th>\n",
              "      <th>10</th>\n",
              "      <th>11</th>\n",
              "      <th>12</th>\n",
              "      <th>13</th>\n",
              "      <th>14</th>\n",
              "      <th>15</th>\n",
              "    </tr>\n",
              "  </thead>\n",
              "  <tbody>\n",
              "    <tr>\n",
              "      <th>0</th>\n",
              "      <td>1</td>\n",
              "      <td>0.0</td>\n",
              "      <td>4.811244e+07</td>\n",
              "      <td>0.0</td>\n",
              "      <td>0.0</td>\n",
              "      <td>5.298934e+07</td>\n",
              "      <td>0.0</td>\n",
              "      <td>5.215435e+07</td>\n",
              "      <td>0.0</td>\n",
              "      <td>0.0</td>\n",
              "      <td>4.293262e+05</td>\n",
              "      <td>3.994267e+07</td>\n",
              "      <td>6.251989e+07</td>\n",
              "      <td>0.0</td>\n",
              "      <td>0.0</td>\n",
              "      <td>2.670458e+07</td>\n",
              "      <td>8.313858e+07</td>\n",
              "    </tr>\n",
              "    <tr>\n",
              "      <th>1</th>\n",
              "      <td>2</td>\n",
              "      <td>0.0</td>\n",
              "      <td>3.477977e+05</td>\n",
              "      <td>0.0</td>\n",
              "      <td>0.0</td>\n",
              "      <td>3.777575e+05</td>\n",
              "      <td>0.0</td>\n",
              "      <td>3.757520e+05</td>\n",
              "      <td>0.0</td>\n",
              "      <td>0.0</td>\n",
              "      <td>6.889133e+03</td>\n",
              "      <td>3.001618e+05</td>\n",
              "      <td>4.527358e+05</td>\n",
              "      <td>0.0</td>\n",
              "      <td>0.0</td>\n",
              "      <td>1.915057e+05</td>\n",
              "      <td>6.009039e+05</td>\n",
              "    </tr>\n",
              "    <tr>\n",
              "      <th>2</th>\n",
              "      <td>3</td>\n",
              "      <td>0.0</td>\n",
              "      <td>6.455196e+07</td>\n",
              "      <td>0.0</td>\n",
              "      <td>0.0</td>\n",
              "      <td>7.110790e+07</td>\n",
              "      <td>0.0</td>\n",
              "      <td>6.997804e+07</td>\n",
              "      <td>0.0</td>\n",
              "      <td>0.0</td>\n",
              "      <td>5.670157e+05</td>\n",
              "      <td>5.356332e+07</td>\n",
              "      <td>8.388026e+07</td>\n",
              "      <td>0.0</td>\n",
              "      <td>0.0</td>\n",
              "      <td>3.583296e+07</td>\n",
              "      <td>1.115463e+08</td>\n",
              "    </tr>\n",
              "    <tr>\n",
              "      <th>3</th>\n",
              "      <td>4</td>\n",
              "      <td>0.0</td>\n",
              "      <td>2.009876e+08</td>\n",
              "      <td>0.0</td>\n",
              "      <td>0.0</td>\n",
              "      <td>2.214679e+08</td>\n",
              "      <td>0.0</td>\n",
              "      <td>2.174101e+08</td>\n",
              "      <td>0.0</td>\n",
              "      <td>0.0</td>\n",
              "      <td>1.342720e+06</td>\n",
              "      <td>1.665389e+08</td>\n",
              "      <td>2.614420e+08</td>\n",
              "      <td>0.0</td>\n",
              "      <td>0.0</td>\n",
              "      <td>1.116514e+08</td>\n",
              "      <td>3.472892e+08</td>\n",
              "    </tr>\n",
              "    <tr>\n",
              "      <th>4</th>\n",
              "      <td>5</td>\n",
              "      <td>0.0</td>\n",
              "      <td>2.384675e+05</td>\n",
              "      <td>0.0</td>\n",
              "      <td>0.0</td>\n",
              "      <td>2.597246e+05</td>\n",
              "      <td>0.0</td>\n",
              "      <td>2.577884e+05</td>\n",
              "      <td>0.0</td>\n",
              "      <td>0.0</td>\n",
              "      <td>4.202993e+03</td>\n",
              "      <td>2.042845e+05</td>\n",
              "      <td>3.103489e+05</td>\n",
              "      <td>0.0</td>\n",
              "      <td>0.0</td>\n",
              "      <td>1.315073e+05</td>\n",
              "      <td>4.120424e+05</td>\n",
              "    </tr>\n",
              "  </tbody>\n",
              "</table>\n",
              "</div>"
            ],
            "text/plain": [
              "   index    0             1    2  ...   12   13            14            15\n",
              "0      1  0.0  4.811244e+07  0.0  ...  0.0  0.0  2.670458e+07  8.313858e+07\n",
              "1      2  0.0  3.477977e+05  0.0  ...  0.0  0.0  1.915057e+05  6.009039e+05\n",
              "2      3  0.0  6.455196e+07  0.0  ...  0.0  0.0  3.583296e+07  1.115463e+08\n",
              "3      4  0.0  2.009876e+08  0.0  ...  0.0  0.0  1.116514e+08  3.472892e+08\n",
              "4      5  0.0  2.384675e+05  0.0  ...  0.0  0.0  1.315073e+05  4.120424e+05\n",
              "\n",
              "[5 rows x 17 columns]"
            ]
          },
          "metadata": {
            "tags": []
          },
          "execution_count": 5
        }
      ]
    },
    {
      "cell_type": "code",
      "metadata": {
        "id": "ehKuKn8_rk23",
        "outputId": "3fd6d097-1876-4266-cb0c-2813596e5e02",
        "colab": {
          "base_uri": "https://localhost:8080/",
          "height": 476
        }
      },
      "source": [
        "train2.info()"
      ],
      "execution_count": 6,
      "outputs": [
        {
          "output_type": "stream",
          "text": [
            "<class 'pandas.core.frame.DataFrame'>\n",
            "RangeIndex: 96498 entries, 0 to 96497\n",
            "Data columns (total 20 columns):\n",
            " #   Column           Non-Null Count  Dtype  \n",
            "---  ------           --------------  -----  \n",
            " 0   Unnamed: 0       96498 non-null  int64  \n",
            " 1   txsize           96498 non-null  int64  \n",
            " 2   txvirtualsize    96498 non-null  int64  \n",
            " 3   txinputs_count   96498 non-null  int64  \n",
            " 4   txoutputs_count  96498 non-null  int64  \n",
            " 5   txinput_val      96498 non-null  float64\n",
            " 6   txoutput_val     96498 non-null  float64\n",
            " 7   txfee            96498 non-null  int64  \n",
            " 8   Min_received     96498 non-null  float64\n",
            " 9   Max_received     96498 non-null  float64\n",
            " 10  Avg_received     96498 non-null  float64\n",
            " 11  Total_received   96498 non-null  float64\n",
            " 12  Stdev_received   96498 non-null  float64\n",
            " 13  Var_received     96498 non-null  float64\n",
            " 14  Min_sent         96498 non-null  float64\n",
            " 15  Max_sent         96498 non-null  float64\n",
            " 16  Avg_sent         96498 non-null  float64\n",
            " 17  Total_sent       96498 non-null  float64\n",
            " 18  Stdev_sent       96498 non-null  float64\n",
            " 19  Var_sent         96498 non-null  float64\n",
            "dtypes: float64(14), int64(6)\n",
            "memory usage: 14.7 MB\n"
          ],
          "name": "stdout"
        }
      ]
    },
    {
      "cell_type": "code",
      "metadata": {
        "id": "oCM9KKnzrIZ-",
        "outputId": "8a72d8a7-901d-4e22-ba25-5ad51c969e38",
        "colab": {
          "base_uri": "https://localhost:8080/",
          "height": 224
        }
      },
      "source": [
        "train2.rename(columns={'Unnamed: 0':'index'}, inplace=True)\n",
        "train2.head()"
      ],
      "execution_count": 7,
      "outputs": [
        {
          "output_type": "execute_result",
          "data": {
            "text/html": [
              "<div>\n",
              "<style scoped>\n",
              "    .dataframe tbody tr th:only-of-type {\n",
              "        vertical-align: middle;\n",
              "    }\n",
              "\n",
              "    .dataframe tbody tr th {\n",
              "        vertical-align: top;\n",
              "    }\n",
              "\n",
              "    .dataframe thead th {\n",
              "        text-align: right;\n",
              "    }\n",
              "</style>\n",
              "<table border=\"1\" class=\"dataframe\">\n",
              "  <thead>\n",
              "    <tr style=\"text-align: right;\">\n",
              "      <th></th>\n",
              "      <th>index</th>\n",
              "      <th>txsize</th>\n",
              "      <th>txvirtualsize</th>\n",
              "      <th>txinputs_count</th>\n",
              "      <th>txoutputs_count</th>\n",
              "      <th>txinput_val</th>\n",
              "      <th>txoutput_val</th>\n",
              "      <th>txfee</th>\n",
              "      <th>Min_received</th>\n",
              "      <th>Max_received</th>\n",
              "      <th>Avg_received</th>\n",
              "      <th>Total_received</th>\n",
              "      <th>Stdev_received</th>\n",
              "      <th>Var_received</th>\n",
              "      <th>Min_sent</th>\n",
              "      <th>Max_sent</th>\n",
              "      <th>Avg_sent</th>\n",
              "      <th>Total_sent</th>\n",
              "      <th>Stdev_sent</th>\n",
              "      <th>Var_sent</th>\n",
              "    </tr>\n",
              "  </thead>\n",
              "  <tbody>\n",
              "    <tr>\n",
              "      <th>0</th>\n",
              "      <td>1</td>\n",
              "      <td>7369</td>\n",
              "      <td>7369</td>\n",
              "      <td>5</td>\n",
              "      <td>190</td>\n",
              "      <td>215000000.0</td>\n",
              "      <td>214600000.0</td>\n",
              "      <td>400000</td>\n",
              "      <td>0.0005</td>\n",
              "      <td>1.0000</td>\n",
              "      <td>0.011295</td>\n",
              "      <td>2.1460</td>\n",
              "      <td>0.081163</td>\n",
              "      <td>0.006587</td>\n",
              "      <td>0.0005</td>\n",
              "      <td>1.6700</td>\n",
              "      <td>0.4300</td>\n",
              "      <td>2.1500</td>\n",
              "      <td>0.703445</td>\n",
              "      <td>0.494835</td>\n",
              "    </tr>\n",
              "    <tr>\n",
              "      <th>1</th>\n",
              "      <td>2</td>\n",
              "      <td>293</td>\n",
              "      <td>293</td>\n",
              "      <td>1</td>\n",
              "      <td>3</td>\n",
              "      <td>4400000.0</td>\n",
              "      <td>4350000.0</td>\n",
              "      <td>50000</td>\n",
              "      <td>0.0010</td>\n",
              "      <td>0.0415</td>\n",
              "      <td>0.014500</td>\n",
              "      <td>0.0435</td>\n",
              "      <td>0.023383</td>\n",
              "      <td>0.000547</td>\n",
              "      <td>0.0440</td>\n",
              "      <td>0.0440</td>\n",
              "      <td>0.0440</td>\n",
              "      <td>0.0440</td>\n",
              "      <td>0.000000</td>\n",
              "      <td>0.000000</td>\n",
              "    </tr>\n",
              "    <tr>\n",
              "      <th>2</th>\n",
              "      <td>3</td>\n",
              "      <td>11139</td>\n",
              "      <td>11139</td>\n",
              "      <td>1</td>\n",
              "      <td>322</td>\n",
              "      <td>125000000.0</td>\n",
              "      <td>124400000.0</td>\n",
              "      <td>600000</td>\n",
              "      <td>0.0010</td>\n",
              "      <td>0.4460</td>\n",
              "      <td>0.003863</td>\n",
              "      <td>1.2440</td>\n",
              "      <td>0.024941</td>\n",
              "      <td>0.000622</td>\n",
              "      <td>1.2500</td>\n",
              "      <td>1.2500</td>\n",
              "      <td>1.2500</td>\n",
              "      <td>1.2500</td>\n",
              "      <td>0.000000</td>\n",
              "      <td>0.000000</td>\n",
              "    </tr>\n",
              "    <tr>\n",
              "      <th>3</th>\n",
              "      <td>4</td>\n",
              "      <td>495</td>\n",
              "      <td>495</td>\n",
              "      <td>1</td>\n",
              "      <td>9</td>\n",
              "      <td>27450000.0</td>\n",
              "      <td>27400000.0</td>\n",
              "      <td>50000</td>\n",
              "      <td>0.0010</td>\n",
              "      <td>0.2660</td>\n",
              "      <td>0.030444</td>\n",
              "      <td>0.2740</td>\n",
              "      <td>0.088333</td>\n",
              "      <td>0.007803</td>\n",
              "      <td>0.2745</td>\n",
              "      <td>0.2745</td>\n",
              "      <td>0.2745</td>\n",
              "      <td>0.2745</td>\n",
              "      <td>0.000000</td>\n",
              "      <td>0.000000</td>\n",
              "    </tr>\n",
              "    <tr>\n",
              "      <th>4</th>\n",
              "      <td>5</td>\n",
              "      <td>462</td>\n",
              "      <td>462</td>\n",
              "      <td>1</td>\n",
              "      <td>8</td>\n",
              "      <td>3000000.0</td>\n",
              "      <td>2950000.0</td>\n",
              "      <td>50000</td>\n",
              "      <td>0.0010</td>\n",
              "      <td>0.0225</td>\n",
              "      <td>0.003687</td>\n",
              "      <td>0.0295</td>\n",
              "      <td>0.007601</td>\n",
              "      <td>0.000058</td>\n",
              "      <td>0.0300</td>\n",
              "      <td>0.0300</td>\n",
              "      <td>0.0300</td>\n",
              "      <td>0.0300</td>\n",
              "      <td>0.000000</td>\n",
              "      <td>0.000000</td>\n",
              "    </tr>\n",
              "  </tbody>\n",
              "</table>\n",
              "</div>"
            ],
            "text/plain": [
              "   index  txsize  txvirtualsize  ...  Total_sent  Stdev_sent  Var_sent\n",
              "0      1    7369           7369  ...      2.1500    0.703445  0.494835\n",
              "1      2     293            293  ...      0.0440    0.000000  0.000000\n",
              "2      3   11139          11139  ...      1.2500    0.000000  0.000000\n",
              "3      4     495            495  ...      0.2745    0.000000  0.000000\n",
              "4      5     462            462  ...      0.0300    0.000000  0.000000\n",
              "\n",
              "[5 rows x 20 columns]"
            ]
          },
          "metadata": {
            "tags": []
          },
          "execution_count": 7
        }
      ]
    },
    {
      "cell_type": "code",
      "metadata": {
        "id": "D8XghayQrnBk",
        "outputId": "32efb494-8b90-4027-8ae1-350106afbebe",
        "colab": {
          "base_uri": "https://localhost:8080/",
          "height": 170
        }
      },
      "source": [
        "train3.info()"
      ],
      "execution_count": 8,
      "outputs": [
        {
          "output_type": "stream",
          "text": [
            "<class 'pandas.core.frame.DataFrame'>\n",
            "RangeIndex: 96498 entries, 0 to 96497\n",
            "Data columns (total 2 columns):\n",
            " #   Column      Non-Null Count  Dtype \n",
            "---  ------      --------------  ----- \n",
            " 0   Unnamed: 0  96498 non-null  int64 \n",
            " 1   label       96498 non-null  object\n",
            "dtypes: int64(1), object(1)\n",
            "memory usage: 1.5+ MB\n"
          ],
          "name": "stdout"
        }
      ]
    },
    {
      "cell_type": "code",
      "metadata": {
        "id": "BxiUAmdfrIXO",
        "outputId": "80bd99de-8245-4d73-8e6d-33b2c9f20628",
        "colab": {
          "base_uri": "https://localhost:8080/",
          "height": 204
        }
      },
      "source": [
        "train3.rename(columns={'Unnamed: 0':'index'}, inplace=True)\n",
        "train3.head()"
      ],
      "execution_count": 9,
      "outputs": [
        {
          "output_type": "execute_result",
          "data": {
            "text/html": [
              "<div>\n",
              "<style scoped>\n",
              "    .dataframe tbody tr th:only-of-type {\n",
              "        vertical-align: middle;\n",
              "    }\n",
              "\n",
              "    .dataframe tbody tr th {\n",
              "        vertical-align: top;\n",
              "    }\n",
              "\n",
              "    .dataframe thead th {\n",
              "        text-align: right;\n",
              "    }\n",
              "</style>\n",
              "<table border=\"1\" class=\"dataframe\">\n",
              "  <thead>\n",
              "    <tr style=\"text-align: right;\">\n",
              "      <th></th>\n",
              "      <th>index</th>\n",
              "      <th>label</th>\n",
              "    </tr>\n",
              "  </thead>\n",
              "  <tbody>\n",
              "    <tr>\n",
              "      <th>0</th>\n",
              "      <td>1</td>\n",
              "      <td>unclassified</td>\n",
              "    </tr>\n",
              "    <tr>\n",
              "      <th>1</th>\n",
              "      <td>2</td>\n",
              "      <td>donations</td>\n",
              "    </tr>\n",
              "    <tr>\n",
              "      <th>2</th>\n",
              "      <td>3</td>\n",
              "      <td>unclassified</td>\n",
              "    </tr>\n",
              "    <tr>\n",
              "      <th>3</th>\n",
              "      <td>4</td>\n",
              "      <td>donations</td>\n",
              "    </tr>\n",
              "    <tr>\n",
              "      <th>4</th>\n",
              "      <td>5</td>\n",
              "      <td>donations</td>\n",
              "    </tr>\n",
              "  </tbody>\n",
              "</table>\n",
              "</div>"
            ],
            "text/plain": [
              "   index         label\n",
              "0      1  unclassified\n",
              "1      2     donations\n",
              "2      3  unclassified\n",
              "3      4     donations\n",
              "4      5     donations"
            ]
          },
          "metadata": {
            "tags": []
          },
          "execution_count": 9
        }
      ]
    },
    {
      "cell_type": "code",
      "metadata": {
        "id": "WHo7l5Ywrz5y"
      },
      "source": [
        "results = pd.merge(train3, train1, on='index', how='inner')\n",
        "\n",
        "# split data into X and y\n",
        "X = results.iloc[:,2:18]\n",
        "Y1 = results['label']"
      ],
      "execution_count": 10,
      "outputs": []
    },
    {
      "cell_type": "code",
      "metadata": {
        "id": "KLKp6A3srz80",
        "outputId": "49bd7d5d-25cd-4050-999a-5325b06bbcd7",
        "colab": {
          "base_uri": "https://localhost:8080/",
          "height": 419
        }
      },
      "source": [
        "#from sklearn import preprocessing\n",
        "#le = preprocessing.LabelEncoder()\n",
        "#le.fit(results['label'].unique())\n",
        "Y_dummies = pd.get_dummies(Y1)\n",
        "#Y_tranform = le.transform(Y)\n",
        "#Y = pd.DataFrame(Y_transform)\n",
        "Y = Y_dummies\n",
        "Y"
      ],
      "execution_count": 11,
      "outputs": [
        {
          "output_type": "execute_result",
          "data": {
            "text/html": [
              "<div>\n",
              "<style scoped>\n",
              "    .dataframe tbody tr th:only-of-type {\n",
              "        vertical-align: middle;\n",
              "    }\n",
              "\n",
              "    .dataframe tbody tr th {\n",
              "        vertical-align: top;\n",
              "    }\n",
              "\n",
              "    .dataframe thead th {\n",
              "        text-align: right;\n",
              "    }\n",
              "</style>\n",
              "<table border=\"1\" class=\"dataframe\">\n",
              "  <thead>\n",
              "    <tr style=\"text-align: right;\">\n",
              "      <th></th>\n",
              "      <th>donations</th>\n",
              "      <th>exchange</th>\n",
              "      <th>mixer</th>\n",
              "      <th>paymentgateway</th>\n",
              "      <th>unclassified</th>\n",
              "      <th>wallets</th>\n",
              "    </tr>\n",
              "  </thead>\n",
              "  <tbody>\n",
              "    <tr>\n",
              "      <th>0</th>\n",
              "      <td>0</td>\n",
              "      <td>0</td>\n",
              "      <td>0</td>\n",
              "      <td>0</td>\n",
              "      <td>1</td>\n",
              "      <td>0</td>\n",
              "    </tr>\n",
              "    <tr>\n",
              "      <th>1</th>\n",
              "      <td>1</td>\n",
              "      <td>0</td>\n",
              "      <td>0</td>\n",
              "      <td>0</td>\n",
              "      <td>0</td>\n",
              "      <td>0</td>\n",
              "    </tr>\n",
              "    <tr>\n",
              "      <th>2</th>\n",
              "      <td>0</td>\n",
              "      <td>0</td>\n",
              "      <td>0</td>\n",
              "      <td>0</td>\n",
              "      <td>1</td>\n",
              "      <td>0</td>\n",
              "    </tr>\n",
              "    <tr>\n",
              "      <th>3</th>\n",
              "      <td>1</td>\n",
              "      <td>0</td>\n",
              "      <td>0</td>\n",
              "      <td>0</td>\n",
              "      <td>0</td>\n",
              "      <td>0</td>\n",
              "    </tr>\n",
              "    <tr>\n",
              "      <th>4</th>\n",
              "      <td>1</td>\n",
              "      <td>0</td>\n",
              "      <td>0</td>\n",
              "      <td>0</td>\n",
              "      <td>0</td>\n",
              "      <td>0</td>\n",
              "    </tr>\n",
              "    <tr>\n",
              "      <th>...</th>\n",
              "      <td>...</td>\n",
              "      <td>...</td>\n",
              "      <td>...</td>\n",
              "      <td>...</td>\n",
              "      <td>...</td>\n",
              "      <td>...</td>\n",
              "    </tr>\n",
              "    <tr>\n",
              "      <th>96493</th>\n",
              "      <td>1</td>\n",
              "      <td>0</td>\n",
              "      <td>0</td>\n",
              "      <td>0</td>\n",
              "      <td>0</td>\n",
              "      <td>0</td>\n",
              "    </tr>\n",
              "    <tr>\n",
              "      <th>96494</th>\n",
              "      <td>1</td>\n",
              "      <td>0</td>\n",
              "      <td>0</td>\n",
              "      <td>0</td>\n",
              "      <td>0</td>\n",
              "      <td>0</td>\n",
              "    </tr>\n",
              "    <tr>\n",
              "      <th>96495</th>\n",
              "      <td>1</td>\n",
              "      <td>0</td>\n",
              "      <td>0</td>\n",
              "      <td>0</td>\n",
              "      <td>0</td>\n",
              "      <td>0</td>\n",
              "    </tr>\n",
              "    <tr>\n",
              "      <th>96496</th>\n",
              "      <td>0</td>\n",
              "      <td>1</td>\n",
              "      <td>0</td>\n",
              "      <td>0</td>\n",
              "      <td>0</td>\n",
              "      <td>0</td>\n",
              "    </tr>\n",
              "    <tr>\n",
              "      <th>96497</th>\n",
              "      <td>0</td>\n",
              "      <td>1</td>\n",
              "      <td>0</td>\n",
              "      <td>0</td>\n",
              "      <td>0</td>\n",
              "      <td>0</td>\n",
              "    </tr>\n",
              "  </tbody>\n",
              "</table>\n",
              "<p>96498 rows × 6 columns</p>\n",
              "</div>"
            ],
            "text/plain": [
              "       donations  exchange  mixer  paymentgateway  unclassified  wallets\n",
              "0              0         0      0               0             1        0\n",
              "1              1         0      0               0             0        0\n",
              "2              0         0      0               0             1        0\n",
              "3              1         0      0               0             0        0\n",
              "4              1         0      0               0             0        0\n",
              "...          ...       ...    ...             ...           ...      ...\n",
              "96493          1         0      0               0             0        0\n",
              "96494          1         0      0               0             0        0\n",
              "96495          1         0      0               0             0        0\n",
              "96496          0         1      0               0             0        0\n",
              "96497          0         1      0               0             0        0\n",
              "\n",
              "[96498 rows x 6 columns]"
            ]
          },
          "metadata": {
            "tags": []
          },
          "execution_count": 11
        }
      ]
    },
    {
      "cell_type": "code",
      "metadata": {
        "id": "HSav4Ygar0AU",
        "outputId": "d800f9c9-f10b-4b3a-e3da-b35d0b01849f",
        "colab": {
          "base_uri": "https://localhost:8080/",
          "height": 119
        }
      },
      "source": [
        "test_size = 0.4\n",
        "x_train, x_test, y_train, y_test = train_test_split(X, Y, test_size=test_size)\n",
        "x_val, x_test, y_val, y_test = train_test_split(x_test, y_test, test_size= 0.5)\n",
        "print(x_train.shape)\n",
        "print(x_val.shape)\n",
        "print(x_test.shape)\n",
        "print(y_train.shape)\n",
        "print(y_val.shape)\n",
        "print(y_test.shape)"
      ],
      "execution_count": 12,
      "outputs": [
        {
          "output_type": "stream",
          "text": [
            "(57898, 16)\n",
            "(19300, 16)\n",
            "(19300, 16)\n",
            "(57898, 6)\n",
            "(19300, 6)\n",
            "(19300, 6)\n"
          ],
          "name": "stdout"
        }
      ]
    },
    {
      "cell_type": "code",
      "metadata": {
        "id": "cxHYgHNSsCun"
      },
      "source": [
        "nn=models.Sequential()"
      ],
      "execution_count": 13,
      "outputs": []
    },
    {
      "cell_type": "code",
      "metadata": {
        "id": "gOhvWXDMsCye"
      },
      "source": [
        "nn.add(layers.Dense(1024,activation = \"tanh\",input_shape=(16,))) \n",
        "nn.add(layers.Dense(512,activation=\"relu\"))\n",
        "nn.add(layers.Dense(256,activation=\"relu\"))\n",
        "nn.add(layers.Dense(128,activation=\"tanh\"))\n",
        "nn.add(layers.Dense(6,activation=\"softmax\"))"
      ],
      "execution_count": 14,
      "outputs": []
    },
    {
      "cell_type": "code",
      "metadata": {
        "id": "yu_SEvfKsC6n",
        "outputId": "303b11c6-731c-4c57-ca84-31cb35bfa494",
        "colab": {
          "base_uri": "https://localhost:8080/",
          "height": 323
        }
      },
      "source": [
        "nn.summary()"
      ],
      "execution_count": 15,
      "outputs": [
        {
          "output_type": "stream",
          "text": [
            "Model: \"sequential\"\n",
            "_________________________________________________________________\n",
            "Layer (type)                 Output Shape              Param #   \n",
            "=================================================================\n",
            "dense (Dense)                (None, 1024)              17408     \n",
            "_________________________________________________________________\n",
            "dense_1 (Dense)              (None, 512)               524800    \n",
            "_________________________________________________________________\n",
            "dense_2 (Dense)              (None, 256)               131328    \n",
            "_________________________________________________________________\n",
            "dense_3 (Dense)              (None, 128)               32896     \n",
            "_________________________________________________________________\n",
            "dense_4 (Dense)              (None, 6)                 774       \n",
            "=================================================================\n",
            "Total params: 707,206\n",
            "Trainable params: 707,206\n",
            "Non-trainable params: 0\n",
            "_________________________________________________________________\n"
          ],
          "name": "stdout"
        }
      ]
    },
    {
      "cell_type": "code",
      "metadata": {
        "id": "FlvwOJKts14U"
      },
      "source": [
        "nn.compile(optimizer='sgd',\n",
        "           loss='categorical_crossentropy',\n",
        "           metrics=['accuracy'])"
      ],
      "execution_count": 16,
      "outputs": []
    },
    {
      "cell_type": "code",
      "metadata": {
        "id": "rz7qYMxPwgZg"
      },
      "source": [
        "es = EarlyStopping(monitor='val_accuracy',patience=15)"
      ],
      "execution_count": 17,
      "outputs": []
    },
    {
      "cell_type": "code",
      "metadata": {
        "id": "e4o7t4k0s1_P",
        "outputId": "d1fdb2f9-4e6f-4ded-eb29-4da715e98d93",
        "colab": {
          "base_uri": "https://localhost:8080/",
          "height": 1000
        }
      },
      "source": [
        "history = nn.fit(x_train, y_train,\n",
        "                 batch_size=128,\n",
        "                 epochs =50,\n",
        "                 validation_data=(x_val, y_val),callbacks=[es])"
      ],
      "execution_count": 18,
      "outputs": [
        {
          "output_type": "stream",
          "text": [
            "Epoch 1/50\n",
            "453/453 [==============================] - 9s 19ms/step - loss: 0.5688 - accuracy: 0.8620 - val_loss: 0.5578 - val_accuracy: 0.8638\n",
            "Epoch 2/50\n",
            "453/453 [==============================] - 8s 19ms/step - loss: 0.5546 - accuracy: 0.8643 - val_loss: 0.5550 - val_accuracy: 0.8639\n",
            "Epoch 3/50\n",
            "453/453 [==============================] - 9s 19ms/step - loss: 0.5533 - accuracy: 0.8643 - val_loss: 0.5684 - val_accuracy: 0.8636\n",
            "Epoch 4/50\n",
            "453/453 [==============================] - 8s 19ms/step - loss: 0.5524 - accuracy: 0.8643 - val_loss: 0.5584 - val_accuracy: 0.8638\n",
            "Epoch 5/50\n",
            "453/453 [==============================] - 9s 19ms/step - loss: 0.5512 - accuracy: 0.8646 - val_loss: 0.5559 - val_accuracy: 0.8641\n",
            "Epoch 6/50\n",
            "453/453 [==============================] - 8s 19ms/step - loss: 0.5509 - accuracy: 0.8646 - val_loss: 0.5566 - val_accuracy: 0.8641\n",
            "Epoch 7/50\n",
            "453/453 [==============================] - 9s 19ms/step - loss: 0.5505 - accuracy: 0.8645 - val_loss: 0.5530 - val_accuracy: 0.8643\n",
            "Epoch 8/50\n",
            "453/453 [==============================] - 9s 19ms/step - loss: 0.5500 - accuracy: 0.8649 - val_loss: 0.5522 - val_accuracy: 0.8640\n",
            "Epoch 9/50\n",
            "453/453 [==============================] - 9s 19ms/step - loss: 0.5495 - accuracy: 0.8649 - val_loss: 0.5523 - val_accuracy: 0.8644\n",
            "Epoch 10/50\n",
            "453/453 [==============================] - 9s 19ms/step - loss: 0.5493 - accuracy: 0.8650 - val_loss: 0.5538 - val_accuracy: 0.8639\n",
            "Epoch 11/50\n",
            "453/453 [==============================] - 8s 19ms/step - loss: 0.5491 - accuracy: 0.8652 - val_loss: 0.5621 - val_accuracy: 0.8640\n",
            "Epoch 12/50\n",
            "453/453 [==============================] - 9s 19ms/step - loss: 0.5487 - accuracy: 0.8651 - val_loss: 0.5518 - val_accuracy: 0.8645\n",
            "Epoch 13/50\n",
            "453/453 [==============================] - 9s 19ms/step - loss: 0.5484 - accuracy: 0.8651 - val_loss: 0.5702 - val_accuracy: 0.8640\n",
            "Epoch 14/50\n",
            "453/453 [==============================] - 9s 19ms/step - loss: 0.5482 - accuracy: 0.8651 - val_loss: 0.5525 - val_accuracy: 0.8644\n",
            "Epoch 15/50\n",
            "453/453 [==============================] - 9s 19ms/step - loss: 0.5482 - accuracy: 0.8653 - val_loss: 0.5512 - val_accuracy: 0.8649\n",
            "Epoch 16/50\n",
            "453/453 [==============================] - 9s 19ms/step - loss: 0.5479 - accuracy: 0.8654 - val_loss: 0.5537 - val_accuracy: 0.8644\n",
            "Epoch 17/50\n",
            "453/453 [==============================] - 9s 19ms/step - loss: 0.5476 - accuracy: 0.8656 - val_loss: 0.5491 - val_accuracy: 0.8649\n",
            "Epoch 18/50\n",
            "453/453 [==============================] - 9s 19ms/step - loss: 0.5474 - accuracy: 0.8653 - val_loss: 0.5495 - val_accuracy: 0.8647\n",
            "Epoch 19/50\n",
            "453/453 [==============================] - 9s 19ms/step - loss: 0.5469 - accuracy: 0.8654 - val_loss: 0.5573 - val_accuracy: 0.8648\n",
            "Epoch 20/50\n",
            "453/453 [==============================] - 9s 19ms/step - loss: 0.5467 - accuracy: 0.8656 - val_loss: 0.5542 - val_accuracy: 0.8650\n",
            "Epoch 21/50\n",
            "453/453 [==============================] - 9s 19ms/step - loss: 0.5469 - accuracy: 0.8656 - val_loss: 0.5485 - val_accuracy: 0.8650\n",
            "Epoch 22/50\n",
            "453/453 [==============================] - 9s 19ms/step - loss: 0.5461 - accuracy: 0.8654 - val_loss: 0.5482 - val_accuracy: 0.8647\n",
            "Epoch 23/50\n",
            "453/453 [==============================] - 9s 19ms/step - loss: 0.5461 - accuracy: 0.8655 - val_loss: 0.5796 - val_accuracy: 0.8638\n",
            "Epoch 24/50\n",
            "453/453 [==============================] - 9s 19ms/step - loss: 0.5457 - accuracy: 0.8654 - val_loss: 0.5491 - val_accuracy: 0.8654\n",
            "Epoch 25/50\n",
            "453/453 [==============================] - 9s 19ms/step - loss: 0.5454 - accuracy: 0.8656 - val_loss: 0.5503 - val_accuracy: 0.8651\n",
            "Epoch 26/50\n",
            "453/453 [==============================] - 9s 19ms/step - loss: 0.5452 - accuracy: 0.8655 - val_loss: 0.5485 - val_accuracy: 0.8651\n",
            "Epoch 27/50\n",
            "453/453 [==============================] - 9s 19ms/step - loss: 0.5455 - accuracy: 0.8656 - val_loss: 0.5501 - val_accuracy: 0.8648\n",
            "Epoch 28/50\n",
            "453/453 [==============================] - 9s 19ms/step - loss: 0.5450 - accuracy: 0.8659 - val_loss: 0.5870 - val_accuracy: 0.8634\n",
            "Epoch 29/50\n",
            "453/453 [==============================] - 9s 19ms/step - loss: 0.5447 - accuracy: 0.8657 - val_loss: 0.5488 - val_accuracy: 0.8646\n",
            "Epoch 30/50\n",
            "453/453 [==============================] - 9s 19ms/step - loss: 0.5448 - accuracy: 0.8657 - val_loss: 0.5468 - val_accuracy: 0.8654\n",
            "Epoch 31/50\n",
            "453/453 [==============================] - 9s 19ms/step - loss: 0.5444 - accuracy: 0.8655 - val_loss: 0.5503 - val_accuracy: 0.8649\n",
            "Epoch 32/50\n",
            "453/453 [==============================] - 9s 20ms/step - loss: 0.5443 - accuracy: 0.8658 - val_loss: 0.5490 - val_accuracy: 0.8648\n",
            "Epoch 33/50\n",
            "453/453 [==============================] - 9s 19ms/step - loss: 0.5440 - accuracy: 0.8657 - val_loss: 0.5577 - val_accuracy: 0.8647\n",
            "Epoch 34/50\n",
            "453/453 [==============================] - 9s 19ms/step - loss: 0.5438 - accuracy: 0.8657 - val_loss: 0.5485 - val_accuracy: 0.8646\n",
            "Epoch 35/50\n",
            "453/453 [==============================] - 9s 20ms/step - loss: 0.5439 - accuracy: 0.8658 - val_loss: 0.5497 - val_accuracy: 0.8659\n",
            "Epoch 36/50\n",
            "453/453 [==============================] - 9s 20ms/step - loss: 0.5439 - accuracy: 0.8659 - val_loss: 0.5486 - val_accuracy: 0.8648\n",
            "Epoch 37/50\n",
            "453/453 [==============================] - 9s 19ms/step - loss: 0.5437 - accuracy: 0.8661 - val_loss: 0.5458 - val_accuracy: 0.8655\n",
            "Epoch 38/50\n",
            "453/453 [==============================] - 9s 19ms/step - loss: 0.5435 - accuracy: 0.8664 - val_loss: 0.5459 - val_accuracy: 0.8654\n",
            "Epoch 39/50\n",
            "453/453 [==============================] - 9s 19ms/step - loss: 0.5430 - accuracy: 0.8668 - val_loss: 0.5522 - val_accuracy: 0.8650\n",
            "Epoch 40/50\n",
            "453/453 [==============================] - 9s 19ms/step - loss: 0.5435 - accuracy: 0.8661 - val_loss: 0.5510 - val_accuracy: 0.8668\n",
            "Epoch 41/50\n",
            "453/453 [==============================] - 9s 19ms/step - loss: 0.5429 - accuracy: 0.8663 - val_loss: 0.5498 - val_accuracy: 0.8662\n",
            "Epoch 42/50\n",
            "453/453 [==============================] - 9s 19ms/step - loss: 0.5431 - accuracy: 0.8667 - val_loss: 0.5522 - val_accuracy: 0.8662\n",
            "Epoch 43/50\n",
            "453/453 [==============================] - 9s 19ms/step - loss: 0.5423 - accuracy: 0.8671 - val_loss: 0.5540 - val_accuracy: 0.8662\n",
            "Epoch 44/50\n",
            "453/453 [==============================] - 9s 19ms/step - loss: 0.5427 - accuracy: 0.8669 - val_loss: 0.5458 - val_accuracy: 0.8667\n",
            "Epoch 45/50\n",
            "453/453 [==============================] - 9s 19ms/step - loss: 0.5427 - accuracy: 0.8669 - val_loss: 0.5464 - val_accuracy: 0.8647\n",
            "Epoch 46/50\n",
            "453/453 [==============================] - 9s 19ms/step - loss: 0.5423 - accuracy: 0.8668 - val_loss: 0.5494 - val_accuracy: 0.8646\n",
            "Epoch 47/50\n",
            "453/453 [==============================] - 9s 19ms/step - loss: 0.5421 - accuracy: 0.8669 - val_loss: 0.5506 - val_accuracy: 0.8663\n",
            "Epoch 48/50\n",
            "453/453 [==============================] - 9s 19ms/step - loss: 0.5421 - accuracy: 0.8671 - val_loss: 0.5455 - val_accuracy: 0.8664\n",
            "Epoch 49/50\n",
            "453/453 [==============================] - 9s 19ms/step - loss: 0.5417 - accuracy: 0.8672 - val_loss: 0.5454 - val_accuracy: 0.8651\n",
            "Epoch 50/50\n",
            "453/453 [==============================] - 9s 19ms/step - loss: 0.5416 - accuracy: 0.8677 - val_loss: 0.5710 - val_accuracy: 0.8646\n"
          ],
          "name": "stdout"
        }
      ]
    },
    {
      "cell_type": "markdown",
      "metadata": {
        "id": "hw0TUxlps-t3"
      },
      "source": [
        "## Plot accuracy vs validation acc and loss vs validation loss during epochs"
      ]
    },
    {
      "cell_type": "code",
      "metadata": {
        "id": "G9-U0XYJs2B9",
        "outputId": "f5d077ef-fdc6-4c9f-9628-cb94fc640a71",
        "colab": {
          "base_uri": "https://localhost:8080/",
          "height": 295
        }
      },
      "source": [
        "loss_train = history.history['loss']\n",
        "loss_val = history.history['val_loss']\n",
        "epochs = range(1,51)\n",
        "plt.plot(epochs, loss_train, 'r', label='Training loss')\n",
        "plt.plot(epochs, loss_val, 'b', label='Validation loss')\n",
        "plt.title('Training and Validation loss')\n",
        "plt.xlabel('Epochs')\n",
        "plt.ylabel('Loss')\n",
        "plt.legend()\n",
        "plt.show()"
      ],
      "execution_count": 20,
      "outputs": [
        {
          "output_type": "display_data",
          "data": {
            "image/png": "[encoded data removed]",
            "text/plain": [
              "<Figure size 432x288 with 1 Axes>"
            ]
          },
          "metadata": {
            "tags": [],
            "needs_background": "light"
          }
        }
      ]
    },
    {
      "cell_type": "code",
      "metadata": {
        "id": "nnQ5ygDSs2Iw",
        "outputId": "4625ddd4-8b7b-43d4-b422-f62db505fba9",
        "colab": {
          "base_uri": "https://localhost:8080/",
          "height": 295
        }
      },
      "source": [
        "loss_train = history.history['accuracy']\n",
        "loss_val = history.history['val_accuracy']\n",
        "epochs = range(1,51)\n",
        "plt.plot(epochs, loss_train, 'r', label='Training accuracy')\n",
        "plt.plot(epochs, loss_val, 'b', label='validation accuracy')\n",
        "plt.title('Training and Validation accuracy')\n",
        "plt.xlabel('Epochs')\n",
        "plt.ylabel('Accuracy')\n",
        "plt.legend()\n",
        "plt.show()"
      ],
      "execution_count": 21,
      "outputs": [
        {
          "output_type": "display_data",
          "data": {
            "image/png": "[encoded data removed]",
            "text/plain": [
              "<Figure size 432x288 with 1 Axes>"
            ]
          },
          "metadata": {
            "tags": [],
            "needs_background": "light"
          }
        }
      ]
    },
    {
      "cell_type": "code",
      "metadata": {
        "id": "tAns1ZUFtHVP",
        "outputId": "40cc720c-e54f-4b17-95f9-2bfe5bfe2a35",
        "colab": {
          "base_uri": "https://localhost:8080/",
          "height": 119
        }
      },
      "source": [
        "train_loss,train_accuracy = nn.evaluate(x_train,y_train)\n",
        "val_loss,val_accuracy = nn.evaluate(x_val,y_val)\n",
        "test_loss,test_accuracy = nn.evaluate(x_test,y_test)\n",
        "print('Training Accuracy : ',train_accuracy)\n",
        "print('Val Accuracy : ',val_accuracy)\n",
        "print('Test Accuracy : ',test_accuracy)"
      ],
      "execution_count": 22,
      "outputs": [
        {
          "output_type": "stream",
          "text": [
            "1810/1810 [==============================] - 4s 2ms/step - loss: 0.5671 - accuracy: 0.8650\n",
            "604/604 [==============================] - 1s 2ms/step - loss: 0.5710 - accuracy: 0.8646\n",
            "604/604 [==============================] - 2s 2ms/step - loss: 0.5612 - accuracy: 0.8678\n",
            "Training Accuracy :  0.8650039434432983\n",
            "Val Accuracy :  0.8646113872528076\n",
            "Test Accuracy :  0.8678238391876221\n"
          ],
          "name": "stdout"
        }
      ]
    }
  ]
}